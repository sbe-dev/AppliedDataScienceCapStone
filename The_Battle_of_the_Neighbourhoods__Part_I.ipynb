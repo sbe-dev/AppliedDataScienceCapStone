{
 "cells": [
  {
   "cell_type": "markdown",
   "metadata": {},
   "source": [
    "# The battle of the neighbourhoods "
   ]
  },
  {
   "cell_type": "markdown",
   "metadata": {},
   "source": [
    "## Introduction"
   ]
  },
  {
   "cell_type": "markdown",
   "metadata": {},
   "source": [
    "### Background & Problem description"
   ]
  },
  {
   "cell_type": "markdown",
   "metadata": {},
   "source": [
    "Bogota, Colombia, is a diverse city with a growing population, many opportunities (and a few problems). The fast developing dining and cocktail bar scene has a huge potential, but also many pitfalls. Some areas of the city are not very safe, especially at night. \n",
    "\n",
    "BYO Ltd is a startup company, aiming to launch modern, trendy restaurants in multiple locations in South America. Management is currently evaluating the options to open the first restaurant in Bogota, Colombia. \n",
    "\n",
    "Bars and restaurants opened by BYO Ltd. target professionals between 20 and 45. During the day the location serve as co-working/event and meeting space. In the evening, it turns into a restaurant and bar. Although the cocktails are excellent, BYO Ltd. offers clients with a paid subscription the possibility to bring their own drinks to the restaurant/bar. As part of the business model, (paying) customers can use the BYO App to inform staff about the intent to bring wine/spirits to the bar. BYO Ltd.'s staff will schedule a pick-up time and fetch the wine/spririts from the client's house (or any other location requested). This makes it easier to enjoy their favorite drink in their favorite restaurant, without the hassle of having to carry it. Further premium options are available on request.\n",
    "\n",
    "BYO Ltd.'s mission is to change the perception of traditional, local recipies and turn them into an exciting new culinary adventure by adding a global touch to them. Together with the food, the cocktails are a main element of the dining experience and serve as combining element. \n",
    "\n",
    "BYO Ltd. takes great interest in their customers and the local community. Easy access, interesting environment and safety are some of the main concerns for the customers. \n",
    "At the same time, BYO Ltd. wants to help develop local communities and always aims to choose developing areas, rather than the well-developed (and more expensive) downtown / busininess districts. "
   ]
  },
  {
   "cell_type": "markdown",
   "metadata": {},
   "source": [
    "#### The key question asked by BYO Ltd's management is : What is the next up and coming neighbourhood in Bogota that meets our selection criteria. "
   ]
  },
  {
   "cell_type": "markdown",
   "metadata": {},
   "source": [
    "Based on past projects, some evaluation criteria were suggested by the CEO: \n",
    "- Accessability (public transport, car, bike etc)\n",
    "- Cost of housing/apartments\n",
    "- Competitors in neighbourhood (co-woriking spaces, cocktail bars, higher-end restaurants)\n",
    "- Other businesses (e.g. coffee shops, gyms, small restaurants)\n",
    "- Safety (crime statistics if available)\n",
    "- Possible activities in surrounding area (guided tours, parks etc)\n",
    "- Distance from next airport\n",
    "- Supermarkets / farmers' markets in the area\n",
    "- Wine shops\n",
    "\n",
    "The above list is not complete. All criteria will be re-evaluated during the project, based on data availability. "
   ]
  },
  {
   "cell_type": "markdown",
   "metadata": {},
   "source": [
    "## Target Audience"
   ]
  },
  {
   "cell_type": "markdown",
   "metadata": {},
   "source": [
    "The main audience is the board of BYO Ltd. "
   ]
  },
  {
   "cell_type": "markdown",
   "metadata": {},
   "source": [
    "## Outcome and success criteria"
   ]
  },
  {
   "cell_type": "markdown",
   "metadata": {},
   "source": [
    "Expected outcome is a data driven recommendation where in Bogotoa to open the next BYO location. This needs to be based on facts and open to further exploration and evaluation through the board. \n",
    "\n",
    "Success is - in this context- defined as a solid recommendation which holds up to interrogation on any level. Critiria defined by the CEO need to be included in the model and weigh in on the recommendation."
   ]
  },
  {
   "cell_type": "code",
   "execution_count": null,
   "metadata": {},
   "outputs": [],
   "source": []
  }
 ],
 "metadata": {
  "kernelspec": {
   "display_name": "Python 3",
   "language": "python",
   "name": "python3"
  },
  "language_info": {
   "codemirror_mode": {
    "name": "ipython",
    "version": 3
   },
   "file_extension": ".py",
   "mimetype": "text/x-python",
   "name": "python",
   "nbconvert_exporter": "python",
   "pygments_lexer": "ipython3",
   "version": "3.7.2"
  }
 },
 "nbformat": 4,
 "nbformat_minor": 2
}
