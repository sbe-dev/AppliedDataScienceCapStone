{
 "cells": [
  {
   "cell_type": "markdown",
   "metadata": {},
   "source": [
    "# The battle of the neighbourhoods "
   ]
  },
  {
   "cell_type": "markdown",
   "metadata": {},
   "source": [
    "## Introduction"
   ]
  },
  {
   "cell_type": "markdown",
   "metadata": {},
   "source": [
    "### Background & Problem description"
   ]
  },
  {
   "cell_type": "markdown",
   "metadata": {},
   "source": [
    "BYO Ltd is a startup company, aiming to launch modern restaurants/bars/co-working spaces.Management is currently evaluating the options to open the first restaurant/bar/co-working space in Glasgow, Scotland. \n",
    "\n",
    "Restaurants/bars/co-working spaces opened by BYO Ltd. target professionals between 20 and 45. During the day the location serve as co-working/event and meeting space. In the evening, it turns into a restaurant and bar. Although the cocktails are excellent, BYO Ltd. offers clients with a paid subscription the possibility to bring their own drinks to the restaurant/bar. As part of the business model, (paying) customers can use the BYO App to inform staff about the intent to bring wine/spirits to the bar. BYO Ltd.'s staff will schedule a pick-up time and fetch the wine/spririts from the client's house (or any other location requested). This makes it easier to enjoy their favorite drink in their favorite restaurant, without the hassle of having to carry it. Further premium options are available on request, e.g. requesting BYO Ltd.'s staff to source a specific bottle of wine (or gin or vodka or... or... ).\n",
    "\n",
    "BYO Ltd. takes great interest in their customers and the local community. Easy access, interesting environment and safety are some of the main concerns for the customers. \n",
    "At the same time, BYO Ltd. wants to help develop local communities and always aims to choose developing areas, rather than the well-developed (and more expensive) downtown / main business districts. "
   ]
  },
  {
   "cell_type": "markdown",
   "metadata": {},
   "source": [
    "The key question asked by BYO Ltd's management is : \n",
    "_Which of the location candidates in Glasgow is the best place for our venture?_"
   ]
  },
  {
   "cell_type": "markdown",
   "metadata": {},
   "source": [
    "Based on past projects, some evaluation criteria were suggested by the CEO: \n",
    "- Parking spaces and/or public transport -> How easy is it for customers to reach us?\n",
    "- Competitors in neighbourhood (co-working spaces, cocktail bars, higher-end restaurants) -> Is the market already saturated? \n",
    "- Other businesses (e.g. coffee shops, gyms, small restaurants) -> Is there potential for cooperation with other businesses? \n",
    "- Possible activities in surrounding area (guided tours, parks etc) -> Can customers (during the day) have additional activities to enhance their experience, bring their kids etc?\n",
    "- Wine shops / Supermarkets / farmers' markets in the area -> Are there suppliers nearby?\n",
    "\n",
    "(The above list is not complete.)\n",
    "\n",
    "Field trips and requirements workshops, four initial location candidates were identified: \n",
    "\n",
    "- Òran Mór in the West End\n",
    "- Park Circus\n",
    "- Merchant City\n",
    "- Craighton \n",
    "\n",
    "The CEO wants to know which of the location candidates could offer the best chance to successfully launch the new venture.\n",
    "\n",
    "To ensure the business side is also 'represented', several workshops were held. Participants were business representatives, location managers, as well as other staff members. As a group, the follwing 'business rules' - or criteria a location candidate must fulfill - wered defined:\n",
    "- 'Class 1' defines venues within 500 m around the location\n",
    "- 'Class 2' defines venues within 1500m around the location\n",
    "\n",
    "For each class, a set of four (4) business rules exists:\n",
    "#### Business rules & criteria - Class 1\n",
    "\n",
    "- Number of competitors       : [the smaller the better]\n",
    "- Number of suppliers         : > 3\n",
    "- Number of restaurants       : > 2 && < 10\n",
    "- Number of parks & recreation: > 2\n",
    "\n",
    "#### Business rules & criteria - Class 2\n",
    "Here the business rules are easier and we focus only on :\n",
    "- Number of competitors       : [the smaller the better]\n",
    "- Number of suppliers         : [the higher the better]\n",
    "- Number of restaurants       : [the higher the better]\n",
    "- Number of parks & recreation: [the higher the better]\n",
    "\n",
    "Location candidates will be ranked for each business rule (place 1 through 4). If a location candidate does not fulfill the criteria, the name is excluded from the ranking. "
   ]
  },
  {
   "cell_type": "markdown",
   "metadata": {},
   "source": [
    "## Target Audience"
   ]
  },
  {
   "cell_type": "markdown",
   "metadata": {},
   "source": [
    "The main audience of this project is the board of BYO Ltd. \n",
    "The results, however, can also be useful to any company looking for a similar business opportunity in Glasgow. \n",
    "(It is highly recommended to perform a proper, custom in-depth analysis for your business...)"
   ]
  },
  {
   "cell_type": "markdown",
   "metadata": {},
   "source": [
    "## Outcome and success criteria"
   ]
  },
  {
   "cell_type": "markdown",
   "metadata": {},
   "source": [
    "Expected outcome is a data driven recommendation where in Glasgow to open the next BYO location. This needs to be based on facts and open to further exploration and evaluation through the board. \n",
    "\n",
    "Success is - in this context- defined as a solid recommendation which holds up to interrogation on any level. Criteria defined by the CEO need to be included in the model and weigh in on the recommendation.\n",
    "\n",
    "The ideal location should have the optimal combination of the criteria listed above. "
   ]
  },
  {
   "cell_type": "code",
   "execution_count": null,
   "metadata": {},
   "outputs": [],
   "source": []
  }
 ],
 "metadata": {
  "kernelspec": {
   "display_name": "Python 3",
   "language": "python",
   "name": "python3"
  },
  "language_info": {
   "codemirror_mode": {
    "name": "ipython",
    "version": 3
   },
   "file_extension": ".py",
   "mimetype": "text/x-python",
   "name": "python",
   "nbconvert_exporter": "python",
   "pygments_lexer": "ipython3",
   "version": "3.7.3"
  }
 },
 "nbformat": 4,
 "nbformat_minor": 2
}
